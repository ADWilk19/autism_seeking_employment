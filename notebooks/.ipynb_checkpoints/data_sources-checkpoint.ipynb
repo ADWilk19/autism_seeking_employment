{
 "cells": [
  {
   "cell_type": "markdown",
   "id": "00046ca5",
   "metadata": {},
   "source": [
    "# Autism Research Data Sources"
   ]
  },
  {
   "cell_type": "markdown",
   "id": "1f5bab4f",
   "metadata": {},
   "source": [
    "## Autism data sources"
   ]
  },
  {
   "cell_type": "markdown",
   "id": "aae652a4",
   "metadata": {},
   "source": [
    "### Prevalence data sources\n",
    "UK:\n",
    "- https://www.health-ni.gov.uk/articles/autism-statistics\n",
    "- https://www.ncl.ac.uk/press/articles/archive/2021/03/autismratesincrease/\n",
    "- NHS autism waiting time statistics dashboard: https://app.powerbi.com/view?r=eyJrIjoiYTNmZmEwNWYtYzcyYS00MDIwLTgxYmYtMGVjZDYwNDM0NWMyIiwidCI6IjUwZjYwNzFmLWJiZmUtNDAxYS04ODAzLTY3Mzc0OGU2MjllMiIsImMiOjh9\n",
    "- ONS: https://www.ons.gov.uk/peoplepopulationandcommunity/healthandsocialcare/disability/adhocs/13197autismprevalenceuk2020\n",
    "\n",
    "USA:\n",
    "- CDC: https://www.cdc.gov/ncbddd/autism/data.html\n",
    "\n",
    "World:\n",
    "- https://worldpopulationreview.com/country-rankings/autism-rates-by-country"
   ]
  },
  {
   "cell_type": "markdown",
   "id": "89fba1f3",
   "metadata": {},
   "source": [
    "### Disability employment data source \n",
    "- ONS: https://www.ons.gov.uk/peoplepopulationandcommunity/healthandsocialcare/disability/datasets/disabilityandemployment"
   ]
  },
  {
   "cell_type": "markdown",
   "id": "18e5426c",
   "metadata": {},
   "source": [
    "### UK National strategy for autistic children, young people and adults: 2021 to 2026 "
   ]
  },
  {
   "cell_type": "code",
   "execution_count": 1,
   "id": "d2656ee6",
   "metadata": {},
   "outputs": [
    {
     "ename": "SyntaxError",
     "evalue": "invalid syntax (3095653000.py, line 1)",
     "output_type": "error",
     "traceback": [
      "\u001b[0;36m  File \u001b[0;32m\"/var/folders/tg/tsd0tl2n0xjdxgfzrqgzljcw0000gn/T/ipykernel_1881/3095653000.py\"\u001b[0;36m, line \u001b[0;32m1\u001b[0m\n\u001b[0;31m    - [UK Government Website](https://www.gov.uk/government/publications/national-strategy-for-autistic-children-young-people-and-adults-2021-to-2026)\u001b[0m\n\u001b[0m          ^\u001b[0m\n\u001b[0;31mSyntaxError\u001b[0m\u001b[0;31m:\u001b[0m invalid syntax\n"
     ]
    }
   ],
   "source": [
    "- UK Government Website)[https://www.gov.uk/government/publications/national-strategy-for-autistic-children-young-people-and-adults-2021-to-2026]"
   ]
  },
  {
   "cell_type": "code",
   "execution_count": null,
   "id": "0219d665",
   "metadata": {},
   "outputs": [],
   "source": []
  }
 ],
 "metadata": {
  "kernelspec": {
   "display_name": "Python 3 (ipykernel)",
   "language": "python",
   "name": "python3"
  },
  "language_info": {
   "codemirror_mode": {
    "name": "ipython",
    "version": 3
   },
   "file_extension": ".py",
   "mimetype": "text/x-python",
   "name": "python",
   "nbconvert_exporter": "python",
   "pygments_lexer": "ipython3",
   "version": "3.8.12"
  },
  "toc": {
   "base_numbering": 1,
   "nav_menu": {},
   "number_sections": true,
   "sideBar": true,
   "skip_h1_title": false,
   "title_cell": "Table of Contents",
   "title_sidebar": "Contents",
   "toc_cell": false,
   "toc_position": {},
   "toc_section_display": true,
   "toc_window_display": false
  }
 },
 "nbformat": 4,
 "nbformat_minor": 5
}
