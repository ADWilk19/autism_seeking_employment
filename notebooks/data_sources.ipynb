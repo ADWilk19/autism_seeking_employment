{
 "cells": [
  {
   "cell_type": "markdown",
   "id": "00046ca5",
   "metadata": {},
   "source": [
    "# Autism Research Data Sources and References"
   ]
  },
  {
   "cell_type": "markdown",
   "id": "1f5bab4f",
   "metadata": {},
   "source": [
    "## Autism data sources"
   ]
  },
  {
   "cell_type": "markdown",
   "id": "aae652a4",
   "metadata": {},
   "source": [
    "### Prevalence data sources\n",
    "UK:\n",
    "- https://www.health-ni.gov.uk/articles/autism-statistics\n",
    "- https://www.ncl.ac.uk/press/articles/archive/2021/03/autismratesincrease/\n",
    "- NHS autism waiting time statistics dashboard: https://app.powerbi.com/view?r=eyJrIjoiYTNmZmEwNWYtYzcyYS00MDIwLTgxYmYtMGVjZDYwNDM0NWMyIiwidCI6IjUwZjYwNzFmLWJiZmUtNDAxYS04ODAzLTY3Mzc0OGU2MjllMiIsImMiOjh9\n",
    "- ONS: https://www.ons.gov.uk/peoplepopulationandcommunity/healthandsocialcare/disability/adhocs/13197autismprevalenceuk2020\n",
    "\n",
    "USA:\n",
    "- CDC: https://www.cdc.gov/ncbddd/autism/data.html\n",
    "\n",
    "World:\n",
    "- https://worldpopulationreview.com/country-rankings/autism-rates-by-country"
   ]
  },
  {
   "cell_type": "markdown",
   "id": "89fba1f3",
   "metadata": {},
   "source": [
    "### Disability employment data source \n",
    "- ONS: https://www.ons.gov.uk/peoplepopulationandcommunity/healthandsocialcare/disability/datasets/disabilityandemployment"
   ]
  },
  {
   "cell_type": "markdown",
   "id": "a50288ee",
   "metadata": {},
   "source": [
    "### UK National strategy for autistic children, young people and adults: 2021 to 2026 "
   ]
  },
  {
   "cell_type": "markdown",
   "id": "ca78c92e",
   "metadata": {},
   "source": [
    "- [UK Government Website](https://www.gov.uk/government/publications/national-strategy-for-autistic-children-young-people-and-adults-2021-to-2026)\n",
    "- [All Party Parliamentary Group on Autism](https://www.autism.org.uk/what-we-do/campaign/england/how-we-work-with-parliament/all-party-parliamentary-group)"
   ]
  },
  {
   "cell_type": "markdown",
   "id": "c8add47b",
   "metadata": {},
   "source": [
    "### Recruitment agency fees"
   ]
  },
  {
   "cell_type": "markdown",
   "id": "733791d3",
   "metadata": {},
   "source": [
    "- [Agency Central](https://www.agencycentral.co.uk/articles/2016-10/how-recruitment-agencies-get-paid.htm)"
   ]
  },
  {
   "cell_type": "markdown",
   "id": "3c145393",
   "metadata": {},
   "source": [
    "### Research\n",
    "- [LSE study highlights critical need to fund autism research](https://www.lse.ac.uk/News/Latest-news-from-LSE/2017/01-January-2017/32-billion-cost-of-autism)\n",
    "- [High-profile autism genetics project paused amid backlash](https://www.nature.com/articles/d41586-021-02602-7)\n",
    "- [National Autism Project Autism Dividend Report](https://nationalautistictaskforce.org.uk/wp-content/uploads/2020/02/autism-dividend-report.pdf)\n",
    "- [The Autism Enigma](https://www.nature.com/articles/479021a)"
   ]
  },
  {
   "cell_type": "code",
   "execution_count": null,
   "id": "29abf54c",
   "metadata": {},
   "outputs": [],
   "source": []
  }
 ],
 "metadata": {
  "kernelspec": {
   "display_name": "Python 3.8.12 64-bit ('shims': virtualenv)",
   "language": "python",
   "name": "python3"
  },
  "language_info": {
   "codemirror_mode": {
    "name": "ipython",
    "version": 3
   },
   "file_extension": ".py",
   "mimetype": "text/x-python",
   "name": "python",
   "nbconvert_exporter": "python",
   "pygments_lexer": "ipython3",
   "version": "3.8.12"
  },
  "toc": {
   "base_numbering": 1,
   "nav_menu": {},
   "number_sections": true,
   "sideBar": true,
   "skip_h1_title": false,
   "title_cell": "Table of Contents",
   "title_sidebar": "Contents",
   "toc_cell": false,
   "toc_position": {},
   "toc_section_display": true,
   "toc_window_display": false
  },
  "vscode": {
   "interpreter": {
    "hash": "3c3cd4ea6ec6015f8673c04e302645ec2b74111616cd0549e18fb5307b6a03fa"
   }
  }
 },
 "nbformat": 4,
 "nbformat_minor": 5
}
